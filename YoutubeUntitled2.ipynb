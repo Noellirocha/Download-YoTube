{
 "cells": [
  {
   "cell_type": "code",
   "execution_count": 11,
   "id": "6e06238e-4e03-4e30-99d2-1aadc3b07887",
   "metadata": {},
   "outputs": [],
   "source": [
    "import pytube"
   ]
  },
  {
   "cell_type": "code",
   "execution_count": 14,
   "id": "2d312f70-8884-4f94-ba95-23a796b3df2a",
   "metadata": {},
   "outputs": [],
   "source": [
    "link= \"https://www.youtube.com/watch?v=-wTmpuA80bw\""
   ]
  },
  {
   "cell_type": "code",
   "execution_count": 17,
   "id": "29fbcd3a-3877-4d04-8102-287568e6d129",
   "metadata": {},
   "outputs": [
    {
     "data": {
      "text/plain": [
       "'C:\\\\Users\\\\noell\\\\Curso Gratuito de Excel - Aula 04 Fórmulas e Recursos de Mercado de Trabalho.mp4'"
      ]
     },
     "execution_count": 17,
     "metadata": {},
     "output_type": "execute_result"
    }
   ],
   "source": [
    "yt = pytube.YouTube(link)\n",
    "stream = yt.streams.get_highest_resolution()\n",
    "stream.download()"
   ]
  },
  {
   "cell_type": "code",
   "execution_count": null,
   "id": "ba578f13-c7b7-404e-b713-59a1f68d3298",
   "metadata": {},
   "outputs": [],
   "source": []
  }
 ],
 "metadata": {
  "kernelspec": {
   "display_name": "Python 3 (ipykernel)",
   "language": "python",
   "name": "python3"
  },
  "language_info": {
   "codemirror_mode": {
    "name": "ipython",
    "version": 3
   },
   "file_extension": ".py",
   "mimetype": "text/x-python",
   "name": "python",
   "nbconvert_exporter": "python",
   "pygments_lexer": "ipython3",
   "version": "3.11.7"
  }
 },
 "nbformat": 4,
 "nbformat_minor": 5
}
